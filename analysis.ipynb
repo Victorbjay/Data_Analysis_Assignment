{
 "cells": [
  {
   "cell_type": "markdown",
   "metadata": {},
   "source": [
    "# 📊 Sales Data Analysis\n",
    "\n",
    "This notebook demonstrates loading, exploring, analyzing, and visualizing a dataset using **pandas** and **matplotlib**."
   ]
  },
  {
   "cell_type": "code",
   "execution_count": null,
   "metadata": {},
   "outputs": [],
   "source": [
    "import pandas as pd\n",
    "import matplotlib.pyplot as plt\n",
    "import seaborn as sns\n",
    "\n",
    "# Load dataset\n",
    "df = pd.read_csv('data/sales.csv')\n",
    "print(\"✅ Dataset Loaded Successfully\")\n",
    "df.head()"
   ]
  },
  {
   "cell_type": "code",
   "execution_count": null,
   "metadata": {},
   "outputs": [],
   "source": [
    "# Explore dataset\n",
    "df.info()\n",
    "df.describe()\n",
    "\n",
    "# Check missing values\n",
    "df.isnull().sum()"
   ]
  },
  {
   "cell_type": "code",
   "execution_count": null,
   "metadata": {},
   "outputs": [],
   "source": [
    "# Fill missing values if any\n",
    "df = df.fillna(0)\n",
    "df.head()"
   ]
  },
  {
   "cell_type": "code",
   "execution_count": null,
   "metadata": {},
   "outputs": [],
   "source": [
    "# Basic analysis: group by Region (example)\n",
    "if 'Region' in df.columns:\n",
    "    print(df.groupby('Region')['Sales'].mean())\n",
    "else:\n",
    "    print(\"No 'Region' column found. Skipping grouping.\")"
   ]
  },
  {
   "cell_type": "code",
   "execution_count": null,
   "metadata": {},
   "outputs": [],
   "source": [
    "# 1️⃣ Line Chart: Sales over Time\n",
    "if 'Date' in df.columns:\n",
    "    df['Date'] = pd.to_datetime(df['Date'])\n",
    "    df.groupby('Date')['Sales'].sum().plot(kind='line', figsize=(8,5), title='Sales Over Time')\n",
    "    plt.ylabel('Sales')\n",
    "    plt.show()"
   ]
  },
  {
   "cell_type": "code",
   "execution_count": null,
   "metadata": {},
   "outputs": [],
   "source": [
    "# 2️⃣ Bar Chart: Average Sales by Region\n",
    "if 'Region' in df.columns:\n",
    "    df.groupby('Region')['Sales'].mean().plot(kind='bar', figsize=(8,5), title='Average Sales by Region')\n",
    "    plt.ylabel('Average Sales')\n",
    "    plt.show()"
   ]
  },
  {
   "cell_type": "code",
   "execution_count": null,
   "metadata": {},
   "outputs": [],
   "source": [
    "# 3️⃣ Histogram: Distribution of Sales\n",
    "df['Sales'].plot(kind='hist', bins=10, figsize=(8,5), title='Sales Distribution')\n",
    "plt.xlabel('Sales')\n",
    "plt.show()"
   ]
  },
  {
   "cell_type": "code",
   "execution_count": null,
   "metadata": {},
   "outputs": [],
   "source": [
    "# 4️⃣ Scatter Plot: Sales vs Profit (if columns exist)\n",
    "if 'Profit' in df.columns:\n",
    "    df.plot(kind='scatter', x='Sales', y='Profit', title='Sales vs Profit', figsize=(8,5))\n",
    "    plt.show()"
   ]
  }
 ],
 "metadata": {
  "kernelspec": {
   "display_name": "Python 3",
   "language": "python",
   "name": "python3"
  },
  "language_info": {
   "name": "python",
   "version": "3.10"
  }
 },
 "nbformat": 4,
 "nbformat_minor": 5
}
