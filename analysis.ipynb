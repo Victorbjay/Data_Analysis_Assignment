# 📊 Sales Data Analysis - Jupyter Notebook

import pandas as pd
import matplotlib.pyplot as plt
import seaborn as sns

# -------------------------------
# Task 1: Load and Explore Dataset
# -------------------------------
df = pd.read_csv("sales.csv")

print("✅ Dataset Loaded Successfully")
df.head()
